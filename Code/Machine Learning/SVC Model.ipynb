{
 "cells": [
  {
   "cell_type": "markdown",
   "id": "b09cae79-3c8e-47c1-bd95-b04adf5810a5",
   "metadata": {},
   "source": [
    "# Support Vector Machines Classification with Python\n",
    "This post will provide an example of SVM using Python broken into the following steps.\n",
    "\n",
    "Data preparation\n",
    "\n",
    "Model Development\n",
    "\n",
    "We will use the linear kernel."
   ]
  },
  {
   "cell_type": "markdown",
   "id": "27919e78-e6e2-47ff-92c7-b94e0044e5c3",
   "metadata": {},
   "source": [
    "# Modules"
   ]
  },
  {
   "cell_type": "code",
   "execution_count": null,
   "id": "3980eb7c-c987-477d-a3c8-726cdcb5b120",
   "metadata": {},
   "outputs": [],
   "source": [
    "import numpy as np\n",
    "import pandas as pd\n",
    "from pydataset import data\n",
    "from sklearn import svm\n",
    "from sklearn.metrics import classification_report\n",
    "from sklearn import model_selection"
   ]
  },
  {
   "cell_type": "markdown",
   "id": "bd683c6d-de7c-416e-8d09-343a95c20719",
   "metadata": {},
   "source": [
    "# Data Preparation\n",
    "We now need to load our dataset and remove any missing values."
   ]
  },
  {
   "cell_type": "code",
   "execution_count": null,
   "id": "11bcfba8-703b-4a24-ba6d-6f48fc2898f5",
   "metadata": {},
   "outputs": [],
   "source": [
    "df=pd.read_cvs()\n",
    "df=df.dropna()\n",
    "df.head()"
   ]
  },
  {
   "cell_type": "markdown",
   "id": "568b7f53-747a-49c8-b67b-50dcf8f92178",
   "metadata": {},
   "source": [
    "# Dummy Variables"
   ]
  },
  {
   "cell_type": "code",
   "execution_count": null,
   "id": "bdc4985d-0fa1-4090-88df-46dd6b301f3b",
   "metadata": {},
   "outputs": [],
   "source": [
    "#select the data set only contain target dummy\n",
    "dummy=pd.get_dummies(df[''])\n",
    "## concat with the origianal dataset\n",
    "df=pd.concat([df,dummy],axis=1)\n",
    "#rename the variable with 0,1, drop will make the string text 2 become 0\n",
    "df=df.rename(index=str, columns={\"string text 1\": \"new variable name\"})\n",
    "df=df.drop('string text 2', axis=1)"
   ]
  },
  {
   "cell_type": "markdown",
   "id": "7b8ee14e-1891-4062-9595-d30a907d7378",
   "metadata": {},
   "source": [
    "If you look at the dataset now you will see a lot of variables that are not necessary. Drop the text variables"
   ]
  },
  {
   "cell_type": "code",
   "execution_count": null,
   "id": "a5538a12-bf76-4c29-b862-f47522d9b847",
   "metadata": {},
   "outputs": [],
   "source": [
    "df=df.drop([''],axis=1)\n",
    "df.head()"
   ]
  },
  {
   "cell_type": "markdown",
   "id": "25dcb0a4-5d96-433b-a49a-6b88ce6cf889",
   "metadata": {},
   "source": [
    "# Scaling of Variables\n",
    "Now we need to scale the data. This is because SVM is sensitive to scale."
   ]
  },
  {
   "cell_type": "code",
   "execution_count": null,
   "id": "f7f9fb0d-cf5f-49df-8db2-e4038469eef8",
   "metadata": {},
   "outputs": [],
   "source": [
    "df = (df - df.min()) / (df.max() - df.min())\n",
    "df.head()"
   ]
  },
  {
   "cell_type": "markdown",
   "id": "c998f6f8-5c1e-47fb-8822-f58446cdea22",
   "metadata": {},
   "source": [
    "# Model Development\n",
    "Before developing our model we need to prepare the train and test sets we begin by placing our independent and dependent variables in different data frames.\n",
    "\n",
    "## Independent and Dependent Variables"
   ]
  },
  {
   "cell_type": "code",
   "execution_count": null,
   "id": "5f4a8d7e-110b-4182-970d-19d80d842526",
   "metadata": {},
   "outputs": [],
   "source": [
    "X=df[['','','']]\n",
    "y=df['']"
   ]
  },
  {
   "cell_type": "markdown",
   "id": "59fb587f-9ae7-45ae-88f7-6ca588c2c312",
   "metadata": {},
   "source": [
    "# Train and Test Sets\n",
    "Now, we need to create the models or the hypothesis we want to test. We will create two hypotheses. The first model is using a linear kernel and the second is one using the rbf kernel. For each of these kernels, there are hyperparameters that need to be set which you will see in the code below."
   ]
  },
  {
   "cell_type": "code",
   "execution_count": null,
   "id": "03a84455-c40d-4444-afd0-7de3d74a2f20",
   "metadata": {},
   "outputs": [],
   "source": [
    "X_train,X_test,y_train,y_test=model_selection.train_test_split(X,y,test_size=.3,random_state=1)"
   ]
  },
  {
   "cell_type": "code",
   "execution_count": null,
   "id": "e7ee0578-b802-44d8-98cd-928bff5c3b7f",
   "metadata": {},
   "outputs": [],
   "source": [
    "h1=svm.LinearSVC(C=1)"
   ]
  },
  {
   "cell_type": "code",
   "execution_count": null,
   "id": "2d4be922-6d3d-4be2-baec-ffdb1f24e25c",
   "metadata": {},
   "outputs": [],
   "source": [
    "h1.fit(X_train,y_train)\n",
    "h1.score(X_train,y_train)"
   ]
  },
  {
   "cell_type": "code",
   "execution_count": null,
   "id": "3d065c15-c01d-4ecd-a151-6b138eef1ce7",
   "metadata": {},
   "outputs": [],
   "source": [
    "y_pred=h1.predict(X_test)"
   ]
  },
  {
   "cell_type": "code",
   "execution_count": null,
   "id": "6f45e34c-6e82-4240-908a-1a7608165510",
   "metadata": {},
   "outputs": [],
   "source": [
    "pd.crosstab(y_test,y_pred)"
   ]
  },
  {
   "cell_type": "code",
   "execution_count": null,
   "id": "657612af-d515-4c7f-81bd-19be0c770234",
   "metadata": {},
   "outputs": [],
   "source": [
    "print(classification_report(y_test, y_pred))"
   ]
  },
  {
   "cell_type": "code",
   "execution_count": null,
   "id": "6d5bbbaa-90ed-4da5-aa60-acbbedbc2fc5",
   "metadata": {},
   "outputs": [],
   "source": []
  },
  {
   "cell_type": "code",
   "execution_count": null,
   "id": "8a0b9af3-ca5d-4c17-8b6f-e3d4c1b5bc8f",
   "metadata": {},
   "outputs": [],
   "source": []
  }
 ],
 "metadata": {
  "kernelspec": {
   "display_name": "Python 3 (ipykernel)",
   "language": "python",
   "name": "python3"
  },
  "language_info": {
   "codemirror_mode": {
    "name": "ipython",
    "version": 3
   },
   "file_extension": ".py",
   "mimetype": "text/x-python",
   "name": "python",
   "nbconvert_exporter": "python",
   "pygments_lexer": "ipython3",
   "version": "3.10.4"
  }
 },
 "nbformat": 4,
 "nbformat_minor": 5
}
